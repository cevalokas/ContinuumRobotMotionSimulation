{
 "cells": [
  {
   "cell_type": "code",
   "execution_count": 1,
   "metadata": {},
   "outputs": [],
   "source": [
    "import torch\n",
    "import torch.nn as nn\n",
    "import torch.optim as optim\n",
    "import numpy as np\n",
    "import matplotlib.pyplot as plt\n",
    "from kine2D import kine2D\n",
    "from net import Net2D as Net\n",
    "# 定义训练参数\n",
    "param = {\"Net\":\"Net2D\",\n",
    "         \"generate_num\":20000,\n",
    "         \"tran_num\":20000,\n",
    "         \"test_num\":100,\n",
    "         \"lr\":0.01}"
   ]
  },
  {
   "cell_type": "code",
   "execution_count": 2,
   "metadata": {},
   "outputs": [],
   "source": [
    "# 定义模型、损失函数和优化器\n",
    "model = Net()\n",
    "criterion = nn.MSELoss()\n",
    "optimizer = optim.Adam(model.parameters(), param[\"lr\"])"
   ]
  },
  {
   "cell_type": "code",
   "execution_count": 7,
   "metadata": {},
   "outputs": [],
   "source": [
    "# 生成随机数据\n",
    "def generate_data(num_samples):\n",
    "    inputs = []\n",
    "    labels = []\n",
    "\n",
    "    for _ in range(num_samples):\n",
    "        theta = np.array([\n",
    "            np.random.normal(loc=0, scale=np.pi/4),\n",
    "            np.random.normal(loc=0, scale=np.pi/3),\n",
    "            np.random.normal(loc=0, scale=np.pi/2)\n",
    "        ])\n",
    "\n",
    "        curves = kine2D(theta)\n",
    "        labels.append(theta)\n",
    "        inputs.append([curves[-1][0][-1],curves[-1][1][-1]])\n",
    "    inputs = np.array(inputs)  # 先转换为 NumPy 数组\n",
    "    labels = np.array(labels)  # 先转换为 NumPy 数组\n",
    "    return torch.tensor(inputs, dtype=torch.float32), torch.tensor(labels, dtype=torch.float32)\n",
    "# 准备数据\n",
    "inputs, labels = generate_data(param[\"generate_num\"])\n"
   ]
  },
  {
   "cell_type": "code",
   "execution_count": 8,
   "metadata": {},
   "outputs": [
    {
     "name": "stdout",
     "output_type": "stream",
     "text": [
      "tensor([[-2.2528,  0.5652],\n",
      "        [-0.9881,  2.5808],\n",
      "        [ 0.2757,  2.4746]])\n",
      "tensor([[-0.8942,  1.0617,  0.1831],\n",
      "        [-0.4283,  0.5883, -1.7330],\n",
      "        [ 0.9408,  0.9902,  1.2050]])\n"
     ]
    }
   ],
   "source": [
    "print(inputs[0:3])\n",
    "print(labels[0:3])"
   ]
  },
  {
   "cell_type": "code",
   "execution_count": null,
   "metadata": {},
   "outputs": [],
   "source": [
    "# 训练\n",
    "def train_model(model, criterion, optimizer, inputs, labels, num_epochs):\n",
    "    data = []\n",
    "    for epoch in range(num_epochs):\n",
    "        optimizer.zero_grad()\n",
    "        outputs = model(inputs)\n",
    "        loss = criterion(outputs, labels)\n",
    "        loss.backward()\n",
    "        optimizer.step()\n",
    "        if (epoch+1) % 100 == 0:\n",
    "            print(f'Epoch [{epoch+1}/{num_epochs}], Loss: {loss.item()}')\n",
    "            data.append(loss.item())\n",
    "    # 创建一个折线图\n",
    "    plt.figure(figsize=(8, 4))  # 图片大小\n",
    "    plt.plot(data, marker='o', linestyle='-', color='b')  # 点样式、线样式、颜色\n",
    "    plt.xlabel('epoch')  # x轴标签\n",
    "    plt.ylabel('LOSS')  # y轴标签\n",
    "    plt.grid(True)  # 显示网格\n",
    "    plt.show()\n",
    "\n",
    "train_model(model, criterion, optimizer, inputs, labels, param[\"tran_num\"])\n",
    "\n",
    "# 保存模型\n",
    "torch.save(model.state_dict(), f'model_libs/{param[\"Net\"]}_model.pth')\n"
   ]
  },
  {
   "cell_type": "code",
   "execution_count": null,
   "metadata": {},
   "outputs": [],
   "source": [
    "# 测试模型\n",
    "test_inputs, test_labels = generate_data(param[\"test_num\"])\n",
    "with torch.no_grad():\n",
    "    test_outputs = model(test_inputs)\n",
    "    test_loss = criterion(test_outputs, test_labels)\n",
    "print(f'Test Loss: {test_loss.item()}')"
   ]
  },
  {
   "cell_type": "markdown",
   "metadata": {},
   "source": [
    "2D化，首先是直接theta拟合，问题是这里的loss到底是什么呢？\n",
    "\n",
    "好像并没有改进什么"
   ]
  }
 ],
 "metadata": {
  "kernelspec": {
   "display_name": "Python 3 (ipykernel)",
   "language": "python",
   "name": "python3"
  },
  "language_info": {
   "codemirror_mode": {
    "name": "ipython",
    "version": 3
   },
   "file_extension": ".py",
   "mimetype": "text/x-python",
   "name": "python",
   "nbconvert_exporter": "python",
   "pygments_lexer": "ipython3",
   "version": "3.9.7"
  }
 },
 "nbformat": 4,
 "nbformat_minor": 4
}
