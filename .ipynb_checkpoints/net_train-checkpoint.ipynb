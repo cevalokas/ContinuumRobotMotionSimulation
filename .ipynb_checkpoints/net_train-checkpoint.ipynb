{
 "cells": [
  {
   "cell_type": "code",
   "execution_count": null,
   "metadata": {},
   "outputs": [],
   "source": [
    "import torch\n",
    "import torch.nn as nn\n",
    "import torch.optim as optim\n",
    "import numpy as np\n",
    "from kine import kine\n"
   ]
  },
  {
   "cell_type": "code",
   "execution_count": null,
   "metadata": {},
   "outputs": [],
   "source": [
    "# 生成随机数据\n",
    "def generate_data(num_samples):\n",
    "    inputs = []\n",
    "    labels = []\n",
    "    for _ in range(num_samples):\n",
    "        # 第一行角度范围为 -π/2 到 π/2\n",
    "        angles = np.random.uniform(-np.pi/2, np.pi/2, size=3)\n",
    "        # 第二行转动范围为 0 到 2π\n",
    "        rotations = np.random.uniform(0, 2*np.pi, size=3)\n",
    "        pose = np.vstack([angles, rotations]).reshape(-1)  # 重组为一维数组\n",
    "        end_position = kine(pose)\n",
    "        labels.append(pose)\n",
    "        inputs.append(end_position)\n",
    "    return torch.tensor(inputs, dtype=torch.float32), torch.tensor(labels, dtype=torch.float32)"
   ]
  },
  {
   "cell_type": "code",
   "execution_count": null,
   "metadata": {},
   "outputs": [],
   "source": [
    "# 定义神经网络模型\n",
    "class Net(nn.Module):\n",
    "    def __init__(self):\n",
    "        super(Net, self).__init__()\n",
    "        self.fc = nn.Sequential(\n",
    "            nn.Linear(3, 18),\n",
    "            nn.ReLU(),\n",
    "            nn.Linear(18, 64),\n",
    "            nn.ReLU(),\n",
    "            nn.Linear(64, 64),\n",
    "            nn.ReLU(),\n",
    "            nn.Linear(64, 32),\n",
    "            nn.ReLU(),\n",
    "            nn.Linear(32, 6)\n",
    "        )\n",
    "\n",
    "    def forward(self, x):\n",
    "        return self.fc(x)"
   ]
  },
  {
   "cell_type": "code",
   "execution_count": null,
   "metadata": {},
   "outputs": [],
   "source": [
    "# 训练网络\n",
    "def train_model(model, criterion, optimizer, inputs, labels, num_epochs=30000):\n",
    "    for epoch in range(num_epochs):\n",
    "        optimizer.zero_grad()\n",
    "        outputs = model(inputs)\n",
    "        loss = criterion(outputs, labels)\n",
    "        loss.backward()\n",
    "        optimizer.step()\n",
    "        if (epoch+1) % 100 == 0:\n",
    "            print(f'Epoch [{epoch+1}/{num_epochs}], Loss: {loss.item()}')"
   ]
  },
  {
   "cell_type": "code",
   "execution_count": null,
   "metadata": {},
   "outputs": [],
   "source": [
    "# 准备数据\n",
    "inputs, labels = generate_data(10000)\n",
    "\n",
    "# 定义模型、损失函数和优化器\n",
    "model = Net()\n",
    "criterion = nn.MSELoss()\n",
    "optimizer = optim.Adam(model.parameters(), lr=0.001)\n",
    "\n",
    "# 训练模型\n",
    "train_model(model, criterion, optimizer, inputs, labels)\n",
    "\n",
    "# # 保存模型\n",
    "# torch.save(model.state_dict(), './continuum/trained_model.pth')"
   ]
  },
  {
   "cell_type": "code",
   "execution_count": null,
   "metadata": {},
   "outputs": [],
   "source": [
    "# 测试模型\n",
    "test_inputs, test_labels = generate_data(100)\n",
    "with torch.no_grad():\n",
    "    test_outputs = model(test_inputs)\n",
    "    test_loss = criterion(test_outputs, test_labels)\n",
    "print(f'Test Loss: {test_loss.item()}')"
   ]
  },
  {
   "cell_type": "code",
   "execution_count": null,
   "metadata": {},
   "outputs": [],
   "source": [
    "# 保存模型\n",
    "torch.save(model.state_dict(), 'trained_model.pth')"
   ]
  }
 ],
 "metadata": {
  "kernelspec": {
   "display_name": "continuum_rl",
   "language": "python",
   "name": "python3"
  },
  "language_info": {
   "codemirror_mode": {
    "name": "ipython",
    "version": 3
   },
   "file_extension": ".py",
   "mimetype": "text/x-python",
   "name": "python",
   "nbconvert_exporter": "python",
   "pygments_lexer": "ipython3",
   "version": "3.9.7"
  }
 },
 "nbformat": 4,
 "nbformat_minor": 2
}
